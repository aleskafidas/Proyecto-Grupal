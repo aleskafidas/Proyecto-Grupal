{
 "cells": [
  {
   "cell_type": "code",
   "execution_count": 1,
   "metadata": {},
   "outputs": [],
   "source": [
    "# Importamos librerías necesarias\n",
    "import pandas as pd\n",
    "import numpy as np\n",
    "import os\n",
    "import glob"
   ]
  },
  {
   "cell_type": "markdown",
   "metadata": {},
   "source": [
    "Dataset City_MedianRentalPrice_1Bedroom formato csv\n",
    "\n",
    "City_MedianRentalPrice_1Bedroom\n",
    "City_MedianRentalPrice_2Bedroom\n",
    "City_MedianRentalPrice_3Bedroom\n",
    "City_MedianRentalPrice_4Bedroom\n"
   ]
  },
  {
   "cell_type": "code",
   "execution_count": 16,
   "metadata": {},
   "outputs": [],
   "source": [
    "City_MedianRentalPrice_1Bedroom=pd.read_csv(r'C:\\Users\\ROXI\\Downloads\\Zillow House Price Data\\City_MedianRentalPrice_1Bedroom.csv',encoding='utf8')"
   ]
  },
  {
   "cell_type": "code",
   "execution_count": 17,
   "metadata": {},
   "outputs": [
    {
     "data": {
      "text/html": [
       "<div>\n",
       "<style scoped>\n",
       "    .dataframe tbody tr th:only-of-type {\n",
       "        vertical-align: middle;\n",
       "    }\n",
       "\n",
       "    .dataframe tbody tr th {\n",
       "        vertical-align: top;\n",
       "    }\n",
       "\n",
       "    .dataframe thead th {\n",
       "        text-align: right;\n",
       "    }\n",
       "</style>\n",
       "<table border=\"1\" class=\"dataframe\">\n",
       "  <thead>\n",
       "    <tr style=\"text-align: right;\">\n",
       "      <th></th>\n",
       "      <th>Unnamed: 0</th>\n",
       "      <th>RegionName</th>\n",
       "      <th>State</th>\n",
       "      <th>Metro</th>\n",
       "      <th>CountyName</th>\n",
       "      <th>SizeRank</th>\n",
       "      <th>2010-02</th>\n",
       "      <th>2010-03</th>\n",
       "      <th>2010-04</th>\n",
       "      <th>2010-05</th>\n",
       "      <th>...</th>\n",
       "      <th>2019-03</th>\n",
       "      <th>2019-04</th>\n",
       "      <th>2019-05</th>\n",
       "      <th>2019-06</th>\n",
       "      <th>2019-07</th>\n",
       "      <th>2019-08</th>\n",
       "      <th>2019-09</th>\n",
       "      <th>2019-10</th>\n",
       "      <th>2019-11</th>\n",
       "      <th>2019-12</th>\n",
       "    </tr>\n",
       "  </thead>\n",
       "  <tbody>\n",
       "    <tr>\n",
       "      <th>0</th>\n",
       "      <td>0</td>\n",
       "      <td>New York</td>\n",
       "      <td>NY</td>\n",
       "      <td>New York-Newark-Jersey City</td>\n",
       "      <td>Queens County</td>\n",
       "      <td>1</td>\n",
       "      <td>NaN</td>\n",
       "      <td>NaN</td>\n",
       "      <td>NaN</td>\n",
       "      <td>2250.0</td>\n",
       "      <td>...</td>\n",
       "      <td>2350.0</td>\n",
       "      <td>2400.0</td>\n",
       "      <td>2400.0</td>\n",
       "      <td>2450.0</td>\n",
       "      <td>2450.0</td>\n",
       "      <td>2475.0</td>\n",
       "      <td>2475.0</td>\n",
       "      <td>2400.0</td>\n",
       "      <td>2400.0</td>\n",
       "      <td>2425.0</td>\n",
       "    </tr>\n",
       "  </tbody>\n",
       "</table>\n",
       "<p>1 rows × 125 columns</p>\n",
       "</div>"
      ],
      "text/plain": [
       "   Unnamed: 0 RegionName State                        Metro     CountyName  \\\n",
       "0           0   New York    NY  New York-Newark-Jersey City  Queens County   \n",
       "\n",
       "   SizeRank  2010-02  2010-03  2010-04  2010-05  ...  2019-03  2019-04  \\\n",
       "0         1      NaN      NaN      NaN   2250.0  ...   2350.0   2400.0   \n",
       "\n",
       "   2019-05  2019-06  2019-07  2019-08  2019-09  2019-10  2019-11  2019-12  \n",
       "0   2400.0   2450.0   2450.0   2475.0   2475.0   2400.0   2400.0   2425.0  \n",
       "\n",
       "[1 rows x 125 columns]"
      ]
     },
     "execution_count": 17,
     "metadata": {},
     "output_type": "execute_result"
    }
   ],
   "source": [
    "#ver el primer registro\n",
    "City_MedianRentalPrice_1Bedroom.head(1)"
   ]
  },
  {
   "cell_type": "markdown",
   "metadata": {},
   "source": [
    "#### a simple vista se puede obserbar que en este dataset la fecha no viene completa lo que indica que vamos a tener que completarla posiblemente con el promedio de dia o la moda."
   ]
  },
  {
   "cell_type": "code",
   "execution_count": 20,
   "metadata": {},
   "outputs": [
    {
     "data": {
      "text/plain": [
       "(818, 125)"
      ]
     },
     "execution_count": 20,
     "metadata": {},
     "output_type": "execute_result"
    }
   ],
   "source": [
    "#ver la dimension del dataframe\n",
    "City_MedianRentalPrice_1Bedroom.shape"
   ]
  },
  {
   "cell_type": "code",
   "execution_count": 19,
   "metadata": {},
   "outputs": [
    {
     "name": "stdout",
     "output_type": "stream",
     "text": [
      "<class 'pandas.core.frame.DataFrame'>\n",
      "RangeIndex: 818 entries, 0 to 817\n",
      "Columns: 125 entries, Unnamed: 0 to 2019-12\n",
      "dtypes: float64(119), int64(2), object(4)\n",
      "memory usage: 799.0+ KB\n"
     ]
    }
   ],
   "source": [
    "#ver informacion acerca del dataframe\n",
    "City_MedianRentalPrice_1Bedroom.info()"
   ]
  },
  {
   "cell_type": "markdown",
   "metadata": {},
   "source": [
    "Dataset City_MedianRentalPrice_5BedroomOrMore formato csv"
   ]
  },
  {
   "cell_type": "code",
   "execution_count": 22,
   "metadata": {},
   "outputs": [],
   "source": [
    "City_MedianRentalPrice_5BedroomOrMore=pd.read_csv(r'C:\\Users\\ROXI\\Downloads\\Zillow House Price Data\\City_MedianRentalPrice_5BedroomOrMore.csv',encoding='utf8')"
   ]
  },
  {
   "cell_type": "code",
   "execution_count": 23,
   "metadata": {},
   "outputs": [
    {
     "data": {
      "text/html": [
       "<div>\n",
       "<style scoped>\n",
       "    .dataframe tbody tr th:only-of-type {\n",
       "        vertical-align: middle;\n",
       "    }\n",
       "\n",
       "    .dataframe tbody tr th {\n",
       "        vertical-align: top;\n",
       "    }\n",
       "\n",
       "    .dataframe thead th {\n",
       "        text-align: right;\n",
       "    }\n",
       "</style>\n",
       "<table border=\"1\" class=\"dataframe\">\n",
       "  <thead>\n",
       "    <tr style=\"text-align: right;\">\n",
       "      <th></th>\n",
       "      <th>Unnamed: 0</th>\n",
       "      <th>RegionName</th>\n",
       "      <th>State</th>\n",
       "      <th>Metro</th>\n",
       "      <th>CountyName</th>\n",
       "      <th>SizeRank</th>\n",
       "      <th>2011-01</th>\n",
       "      <th>2011-02</th>\n",
       "      <th>2011-03</th>\n",
       "      <th>2011-04</th>\n",
       "      <th>...</th>\n",
       "      <th>2019-03</th>\n",
       "      <th>2019-04</th>\n",
       "      <th>2019-05</th>\n",
       "      <th>2019-06</th>\n",
       "      <th>2019-07</th>\n",
       "      <th>2019-08</th>\n",
       "      <th>2019-09</th>\n",
       "      <th>2019-10</th>\n",
       "      <th>2019-11</th>\n",
       "      <th>2019-12</th>\n",
       "    </tr>\n",
       "  </thead>\n",
       "  <tbody>\n",
       "    <tr>\n",
       "      <th>0</th>\n",
       "      <td>0</td>\n",
       "      <td>Los Angeles</td>\n",
       "      <td>CA</td>\n",
       "      <td>Los Angeles-Long Beach-Anaheim</td>\n",
       "      <td>Los Angeles County</td>\n",
       "      <td>1</td>\n",
       "      <td>NaN</td>\n",
       "      <td>NaN</td>\n",
       "      <td>NaN</td>\n",
       "      <td>NaN</td>\n",
       "      <td>...</td>\n",
       "      <td>4000.0</td>\n",
       "      <td>4150.0</td>\n",
       "      <td>3972.5</td>\n",
       "      <td>3950.0</td>\n",
       "      <td>4195.0</td>\n",
       "      <td>4250.0</td>\n",
       "      <td>4500.0</td>\n",
       "      <td>4495.0</td>\n",
       "      <td>4500.0</td>\n",
       "      <td>4495.0</td>\n",
       "    </tr>\n",
       "  </tbody>\n",
       "</table>\n",
       "<p>1 rows × 114 columns</p>\n",
       "</div>"
      ],
      "text/plain": [
       "   Unnamed: 0   RegionName State                           Metro  \\\n",
       "0           0  Los Angeles    CA  Los Angeles-Long Beach-Anaheim   \n",
       "\n",
       "           CountyName  SizeRank  2011-01  2011-02  2011-03  2011-04  ...  \\\n",
       "0  Los Angeles County         1      NaN      NaN      NaN      NaN  ...   \n",
       "\n",
       "   2019-03  2019-04  2019-05  2019-06  2019-07  2019-08  2019-09  2019-10  \\\n",
       "0   4000.0   4150.0   3972.5   3950.0   4195.0   4250.0   4500.0   4495.0   \n",
       "\n",
       "   2019-11  2019-12  \n",
       "0   4500.0   4495.0  \n",
       "\n",
       "[1 rows x 114 columns]"
      ]
     },
     "execution_count": 23,
     "metadata": {},
     "output_type": "execute_result"
    }
   ],
   "source": [
    "#ver el primer registro\n",
    "City_MedianRentalPrice_5BedroomOrMore.head(1)"
   ]
  },
  {
   "cell_type": "markdown",
   "metadata": {},
   "source": [
    "#### a simple vista se puede obserbar que en este dataset la fecha no viene completa lo que indica que vamos a tener que completarla posiblemente con el promedio de dia o la moda."
   ]
  },
  {
   "cell_type": "code",
   "execution_count": 24,
   "metadata": {},
   "outputs": [
    {
     "data": {
      "text/plain": [
       "(48, 114)"
      ]
     },
     "execution_count": 24,
     "metadata": {},
     "output_type": "execute_result"
    }
   ],
   "source": [
    "#ver la dimension del dataframe\n",
    "City_MedianRentalPrice_5BedroomOrMore.shape"
   ]
  },
  {
   "cell_type": "code",
   "execution_count": 25,
   "metadata": {},
   "outputs": [
    {
     "name": "stdout",
     "output_type": "stream",
     "text": [
      "<class 'pandas.core.frame.DataFrame'>\n",
      "RangeIndex: 48 entries, 0 to 47\n",
      "Columns: 114 entries, Unnamed: 0 to 2019-12\n",
      "dtypes: float64(108), int64(2), object(4)\n",
      "memory usage: 42.9+ KB\n"
     ]
    }
   ],
   "source": [
    "#ver informacion acerca del dataframe\n",
    "City_MedianRentalPrice_5BedroomOrMore.info()"
   ]
  },
  {
   "cell_type": "markdown",
   "metadata": {},
   "source": [
    "Dataset City_MedianRentalPrice_AllHomes formato csv"
   ]
  },
  {
   "cell_type": "code",
   "execution_count": 38,
   "metadata": {},
   "outputs": [],
   "source": [
    "City_MedianRentalPrice_AllHomes=pd.read_csv(r'C:\\Users\\ROXI\\Downloads\\Zillow House Price Data\\City_MedianRentalPrice_AllHomes.csv',encoding='utf8')"
   ]
  },
  {
   "cell_type": "code",
   "execution_count": 39,
   "metadata": {},
   "outputs": [
    {
     "data": {
      "text/html": [
       "<div>\n",
       "<style scoped>\n",
       "    .dataframe tbody tr th:only-of-type {\n",
       "        vertical-align: middle;\n",
       "    }\n",
       "\n",
       "    .dataframe tbody tr th {\n",
       "        vertical-align: top;\n",
       "    }\n",
       "\n",
       "    .dataframe thead th {\n",
       "        text-align: right;\n",
       "    }\n",
       "</style>\n",
       "<table border=\"1\" class=\"dataframe\">\n",
       "  <thead>\n",
       "    <tr style=\"text-align: right;\">\n",
       "      <th></th>\n",
       "      <th>Unnamed: 0</th>\n",
       "      <th>RegionName</th>\n",
       "      <th>State</th>\n",
       "      <th>Metro</th>\n",
       "      <th>CountyName</th>\n",
       "      <th>SizeRank</th>\n",
       "      <th>2010-01</th>\n",
       "      <th>2010-02</th>\n",
       "      <th>2010-03</th>\n",
       "      <th>2010-04</th>\n",
       "      <th>...</th>\n",
       "      <th>2019-03</th>\n",
       "      <th>2019-04</th>\n",
       "      <th>2019-05</th>\n",
       "      <th>2019-06</th>\n",
       "      <th>2019-07</th>\n",
       "      <th>2019-08</th>\n",
       "      <th>2019-09</th>\n",
       "      <th>2019-10</th>\n",
       "      <th>2019-11</th>\n",
       "      <th>2019-12</th>\n",
       "    </tr>\n",
       "  </thead>\n",
       "  <tbody>\n",
       "    <tr>\n",
       "      <th>0</th>\n",
       "      <td>0</td>\n",
       "      <td>New York</td>\n",
       "      <td>NY</td>\n",
       "      <td>New York-Newark-Jersey City</td>\n",
       "      <td>Queens County</td>\n",
       "      <td>1</td>\n",
       "      <td>NaN</td>\n",
       "      <td>NaN</td>\n",
       "      <td>NaN</td>\n",
       "      <td>NaN</td>\n",
       "      <td>...</td>\n",
       "      <td>2800.0</td>\n",
       "      <td>2875.0</td>\n",
       "      <td>2900.0</td>\n",
       "      <td>2895.0</td>\n",
       "      <td>2850.0</td>\n",
       "      <td>2925.0</td>\n",
       "      <td>2900.0</td>\n",
       "      <td>2900.0</td>\n",
       "      <td>2899.0</td>\n",
       "      <td>2900.0</td>\n",
       "    </tr>\n",
       "  </tbody>\n",
       "</table>\n",
       "<p>1 rows × 126 columns</p>\n",
       "</div>"
      ],
      "text/plain": [
       "   Unnamed: 0 RegionName State                        Metro     CountyName  \\\n",
       "0           0   New York    NY  New York-Newark-Jersey City  Queens County   \n",
       "\n",
       "   SizeRank  2010-01  2010-02  2010-03  2010-04  ...  2019-03  2019-04  \\\n",
       "0         1      NaN      NaN      NaN      NaN  ...   2800.0   2875.0   \n",
       "\n",
       "   2019-05  2019-06  2019-07  2019-08  2019-09  2019-10  2019-11  2019-12  \n",
       "0   2900.0   2895.0   2850.0   2925.0   2900.0   2900.0   2899.0   2900.0  \n",
       "\n",
       "[1 rows x 126 columns]"
      ]
     },
     "execution_count": 39,
     "metadata": {},
     "output_type": "execute_result"
    }
   ],
   "source": [
    "City_MedianRentalPrice_AllHomes.head(1)"
   ]
  },
  {
   "cell_type": "markdown",
   "metadata": {},
   "source": [
    "#### a simple vista se puede obserbar que en este dataset la fecha no viene completa lo que indica que vamos a tener que completarla posiblemente con el promedio de dia o la moda."
   ]
  },
  {
   "cell_type": "code",
   "execution_count": 29,
   "metadata": {},
   "outputs": [
    {
     "data": {
      "text/plain": [
       "(1699, 126)"
      ]
     },
     "execution_count": 29,
     "metadata": {},
     "output_type": "execute_result"
    }
   ],
   "source": [
    "City_MedianRentalPrice_AllHomes.shape"
   ]
  },
  {
   "cell_type": "code",
   "execution_count": 30,
   "metadata": {},
   "outputs": [
    {
     "name": "stdout",
     "output_type": "stream",
     "text": [
      "<class 'pandas.core.frame.DataFrame'>\n",
      "RangeIndex: 1699 entries, 0 to 1698\n",
      "Columns: 126 entries, Unnamed: 0 to 2019-12\n",
      "dtypes: float64(120), int64(2), object(4)\n",
      "memory usage: 1.6+ MB\n"
     ]
    }
   ],
   "source": [
    "City_MedianRentalPrice_AllHomes.info()"
   ]
  },
  {
   "cell_type": "code",
   "execution_count": 41,
   "metadata": {},
   "outputs": [],
   "source": [
    "City_MedianRentalPrice_Sfr=pd.read_csv(r'C:\\Users\\ROXI\\Downloads\\Zillow House Price Data\\City_MedianRentalPrice_Sfr.csv',encoding='utf8')"
   ]
  },
  {
   "cell_type": "code",
   "execution_count": 42,
   "metadata": {},
   "outputs": [
    {
     "data": {
      "text/html": [
       "<div>\n",
       "<style scoped>\n",
       "    .dataframe tbody tr th:only-of-type {\n",
       "        vertical-align: middle;\n",
       "    }\n",
       "\n",
       "    .dataframe tbody tr th {\n",
       "        vertical-align: top;\n",
       "    }\n",
       "\n",
       "    .dataframe thead th {\n",
       "        text-align: right;\n",
       "    }\n",
       "</style>\n",
       "<table border=\"1\" class=\"dataframe\">\n",
       "  <thead>\n",
       "    <tr style=\"text-align: right;\">\n",
       "      <th></th>\n",
       "      <th>Unnamed: 0</th>\n",
       "      <th>RegionName</th>\n",
       "      <th>State</th>\n",
       "      <th>Metro</th>\n",
       "      <th>CountyName</th>\n",
       "      <th>SizeRank</th>\n",
       "      <th>2010-01</th>\n",
       "      <th>2010-02</th>\n",
       "      <th>2010-03</th>\n",
       "      <th>2010-04</th>\n",
       "      <th>...</th>\n",
       "      <th>2019-03</th>\n",
       "      <th>2019-04</th>\n",
       "      <th>2019-05</th>\n",
       "      <th>2019-06</th>\n",
       "      <th>2019-07</th>\n",
       "      <th>2019-08</th>\n",
       "      <th>2019-09</th>\n",
       "      <th>2019-10</th>\n",
       "      <th>2019-11</th>\n",
       "      <th>2019-12</th>\n",
       "    </tr>\n",
       "  </thead>\n",
       "  <tbody>\n",
       "    <tr>\n",
       "      <th>0</th>\n",
       "      <td>0</td>\n",
       "      <td>New York</td>\n",
       "      <td>NY</td>\n",
       "      <td>New York-Newark-Jersey City</td>\n",
       "      <td>Queens County</td>\n",
       "      <td>1</td>\n",
       "      <td>NaN</td>\n",
       "      <td>NaN</td>\n",
       "      <td>NaN</td>\n",
       "      <td>NaN</td>\n",
       "      <td>...</td>\n",
       "      <td>2500.0</td>\n",
       "      <td>2500.0</td>\n",
       "      <td>2560.0</td>\n",
       "      <td>2500.0</td>\n",
       "      <td>2500.0</td>\n",
       "      <td>2600.0</td>\n",
       "      <td>2600.0</td>\n",
       "      <td>2595.0</td>\n",
       "      <td>2595.0</td>\n",
       "      <td>2600.0</td>\n",
       "    </tr>\n",
       "  </tbody>\n",
       "</table>\n",
       "<p>1 rows × 126 columns</p>\n",
       "</div>"
      ],
      "text/plain": [
       "   Unnamed: 0 RegionName State                        Metro     CountyName  \\\n",
       "0           0   New York    NY  New York-Newark-Jersey City  Queens County   \n",
       "\n",
       "   SizeRank  2010-01  2010-02  2010-03  2010-04  ...  2019-03  2019-04  \\\n",
       "0         1      NaN      NaN      NaN      NaN  ...   2500.0   2500.0   \n",
       "\n",
       "   2019-05  2019-06  2019-07  2019-08  2019-09  2019-10  2019-11  2019-12  \n",
       "0   2560.0   2500.0   2500.0   2600.0   2600.0   2595.0   2595.0   2600.0  \n",
       "\n",
       "[1 rows x 126 columns]"
      ]
     },
     "execution_count": 42,
     "metadata": {},
     "output_type": "execute_result"
    }
   ],
   "source": [
    "City_MedianRentalPrice_Sfr.head(1)"
   ]
  },
  {
   "cell_type": "markdown",
   "metadata": {},
   "source": [
    "#### a simple vista se puede obserbar que en este dataset la fecha no viene completa lo que indica que vamos a tener que completarla posiblemente con el promedio de dia o la moda."
   ]
  },
  {
   "cell_type": "code",
   "execution_count": 43,
   "metadata": {},
   "outputs": [
    {
     "data": {
      "text/plain": [
       "(1462, 126)"
      ]
     },
     "execution_count": 43,
     "metadata": {},
     "output_type": "execute_result"
    }
   ],
   "source": [
    "City_MedianRentalPrice_Sfr.shape"
   ]
  },
  {
   "cell_type": "code",
   "execution_count": 44,
   "metadata": {},
   "outputs": [
    {
     "name": "stdout",
     "output_type": "stream",
     "text": [
      "<class 'pandas.core.frame.DataFrame'>\n",
      "RangeIndex: 1462 entries, 0 to 1461\n",
      "Columns: 126 entries, Unnamed: 0 to 2019-12\n",
      "dtypes: float64(120), int64(2), object(4)\n",
      "memory usage: 1.4+ MB\n"
     ]
    }
   ],
   "source": [
    "City_MedianRentalPrice_Sfr.info()"
   ]
  },
  {
   "cell_type": "code",
   "execution_count": 46,
   "metadata": {},
   "outputs": [],
   "source": [
    "City_MedianRentalPrice_Studio=pd.read_csv(r'C:\\Users\\ROXI\\Downloads\\Zillow House Price Data\\City_MedianRentalPrice_Studio.csv')"
   ]
  },
  {
   "cell_type": "code",
   "execution_count": 47,
   "metadata": {},
   "outputs": [
    {
     "data": {
      "text/html": [
       "<div>\n",
       "<style scoped>\n",
       "    .dataframe tbody tr th:only-of-type {\n",
       "        vertical-align: middle;\n",
       "    }\n",
       "\n",
       "    .dataframe tbody tr th {\n",
       "        vertical-align: top;\n",
       "    }\n",
       "\n",
       "    .dataframe thead th {\n",
       "        text-align: right;\n",
       "    }\n",
       "</style>\n",
       "<table border=\"1\" class=\"dataframe\">\n",
       "  <thead>\n",
       "    <tr style=\"text-align: right;\">\n",
       "      <th></th>\n",
       "      <th>Unnamed: 0</th>\n",
       "      <th>RegionName</th>\n",
       "      <th>State</th>\n",
       "      <th>Metro</th>\n",
       "      <th>CountyName</th>\n",
       "      <th>SizeRank</th>\n",
       "      <th>2010-02</th>\n",
       "      <th>2010-03</th>\n",
       "      <th>2010-04</th>\n",
       "      <th>2010-05</th>\n",
       "      <th>...</th>\n",
       "      <th>2019-03</th>\n",
       "      <th>2019-04</th>\n",
       "      <th>2019-05</th>\n",
       "      <th>2019-06</th>\n",
       "      <th>2019-07</th>\n",
       "      <th>2019-08</th>\n",
       "      <th>2019-09</th>\n",
       "      <th>2019-10</th>\n",
       "      <th>2019-11</th>\n",
       "      <th>2019-12</th>\n",
       "    </tr>\n",
       "  </thead>\n",
       "  <tbody>\n",
       "    <tr>\n",
       "      <th>0</th>\n",
       "      <td>0</td>\n",
       "      <td>New York</td>\n",
       "      <td>NY</td>\n",
       "      <td>New York-Newark-Jersey City</td>\n",
       "      <td>Queens County</td>\n",
       "      <td>1</td>\n",
       "      <td>1972.5</td>\n",
       "      <td>2300.0</td>\n",
       "      <td>2495.0</td>\n",
       "      <td>2200.0</td>\n",
       "      <td>...</td>\n",
       "      <td>2400.0</td>\n",
       "      <td>2442.0</td>\n",
       "      <td>2450.0</td>\n",
       "      <td>2475.0</td>\n",
       "      <td>2450.0</td>\n",
       "      <td>2450.0</td>\n",
       "      <td>2400.0</td>\n",
       "      <td>2400.0</td>\n",
       "      <td>2400.0</td>\n",
       "      <td>2400.0</td>\n",
       "    </tr>\n",
       "  </tbody>\n",
       "</table>\n",
       "<p>1 rows × 125 columns</p>\n",
       "</div>"
      ],
      "text/plain": [
       "   Unnamed: 0 RegionName State                        Metro     CountyName  \\\n",
       "0           0   New York    NY  New York-Newark-Jersey City  Queens County   \n",
       "\n",
       "   SizeRank  2010-02  2010-03  2010-04  2010-05  ...  2019-03  2019-04  \\\n",
       "0         1   1972.5   2300.0   2495.0   2200.0  ...   2400.0   2442.0   \n",
       "\n",
       "   2019-05  2019-06  2019-07  2019-08  2019-09  2019-10  2019-11  2019-12  \n",
       "0   2450.0   2475.0   2450.0   2450.0   2400.0   2400.0   2400.0   2400.0  \n",
       "\n",
       "[1 rows x 125 columns]"
      ]
     },
     "execution_count": 47,
     "metadata": {},
     "output_type": "execute_result"
    }
   ],
   "source": [
    "City_MedianRentalPrice_Studio.head(1)"
   ]
  },
  {
   "cell_type": "markdown",
   "metadata": {},
   "source": [
    "#### a simple vista se puede obserbar que en este dataset la fecha no viene completa lo que indica que vamos a tener que completarla posiblemente con el promedio de dia o la moda."
   ]
  },
  {
   "cell_type": "code",
   "execution_count": 48,
   "metadata": {},
   "outputs": [
    {
     "data": {
      "text/plain": [
       "(345, 125)"
      ]
     },
     "execution_count": 48,
     "metadata": {},
     "output_type": "execute_result"
    }
   ],
   "source": [
    "City_MedianRentalPrice_Studio.shape"
   ]
  },
  {
   "cell_type": "code",
   "execution_count": 49,
   "metadata": {},
   "outputs": [
    {
     "name": "stdout",
     "output_type": "stream",
     "text": [
      "<class 'pandas.core.frame.DataFrame'>\n",
      "RangeIndex: 345 entries, 0 to 344\n",
      "Columns: 125 entries, Unnamed: 0 to 2019-12\n",
      "dtypes: float64(119), int64(2), object(4)\n",
      "memory usage: 337.0+ KB\n"
     ]
    }
   ],
   "source": [
    "City_MedianRentalPrice_Studio.info()"
   ]
  },
  {
   "cell_type": "markdown",
   "metadata": {},
   "source": [
    "Dataset City_Zhvi_1bedroom formato csv\n",
    "\n",
    "City_Zhvi_1bedroom\n",
    "City_Zhvi_2bedroom\n",
    "City_Zhvi_3bedroom\n",
    "City_Zhvi_4bedroom"
   ]
  },
  {
   "cell_type": "code",
   "execution_count": 50,
   "metadata": {},
   "outputs": [],
   "source": [
    "City_Zhvi_1bedroom=pd.read_csv(r'C:\\Users\\ROXI\\Downloads\\Zillow House Price Data\\City_Zhvi_1bedroom.csv')"
   ]
  },
  {
   "cell_type": "code",
   "execution_count": 51,
   "metadata": {},
   "outputs": [
    {
     "data": {
      "text/html": [
       "<div>\n",
       "<style scoped>\n",
       "    .dataframe tbody tr th:only-of-type {\n",
       "        vertical-align: middle;\n",
       "    }\n",
       "\n",
       "    .dataframe tbody tr th {\n",
       "        vertical-align: top;\n",
       "    }\n",
       "\n",
       "    .dataframe thead th {\n",
       "        text-align: right;\n",
       "    }\n",
       "</style>\n",
       "<table border=\"1\" class=\"dataframe\">\n",
       "  <thead>\n",
       "    <tr style=\"text-align: right;\">\n",
       "      <th></th>\n",
       "      <th>Unnamed: 0</th>\n",
       "      <th>RegionID</th>\n",
       "      <th>SizeRank</th>\n",
       "      <th>RegionName</th>\n",
       "      <th>RegionType</th>\n",
       "      <th>StateName</th>\n",
       "      <th>State</th>\n",
       "      <th>Metro</th>\n",
       "      <th>CountyName</th>\n",
       "      <th>1996-01-31</th>\n",
       "      <th>...</th>\n",
       "      <th>2019-06-30</th>\n",
       "      <th>2019-07-31</th>\n",
       "      <th>2019-08-31</th>\n",
       "      <th>2019-09-30</th>\n",
       "      <th>2019-10-31</th>\n",
       "      <th>2019-11-30</th>\n",
       "      <th>2019-12-31</th>\n",
       "      <th>2020-01-31</th>\n",
       "      <th>2020-02-29</th>\n",
       "      <th>2020-03-31</th>\n",
       "    </tr>\n",
       "  </thead>\n",
       "  <tbody>\n",
       "    <tr>\n",
       "      <th>0</th>\n",
       "      <td>0</td>\n",
       "      <td>6181</td>\n",
       "      <td>0</td>\n",
       "      <td>New York</td>\n",
       "      <td>City</td>\n",
       "      <td>NY</td>\n",
       "      <td>NY</td>\n",
       "      <td>New York-Newark-Jersey City</td>\n",
       "      <td>Queens County</td>\n",
       "      <td>139028.0</td>\n",
       "      <td>...</td>\n",
       "      <td>606162.0</td>\n",
       "      <td>604457.0</td>\n",
       "      <td>603126.0</td>\n",
       "      <td>601368.0</td>\n",
       "      <td>600138.0</td>\n",
       "      <td>598527.0</td>\n",
       "      <td>597268.0</td>\n",
       "      <td>597019.0</td>\n",
       "      <td>596725.0</td>\n",
       "      <td>596432.0</td>\n",
       "    </tr>\n",
       "  </tbody>\n",
       "</table>\n",
       "<p>1 rows × 300 columns</p>\n",
       "</div>"
      ],
      "text/plain": [
       "   Unnamed: 0  RegionID  SizeRank RegionName RegionType StateName State  \\\n",
       "0           0      6181         0   New York       City        NY    NY   \n",
       "\n",
       "                         Metro     CountyName  1996-01-31  ...  2019-06-30  \\\n",
       "0  New York-Newark-Jersey City  Queens County    139028.0  ...    606162.0   \n",
       "\n",
       "   2019-07-31  2019-08-31  2019-09-30  2019-10-31  2019-11-30  2019-12-31  \\\n",
       "0    604457.0    603126.0    601368.0    600138.0    598527.0    597268.0   \n",
       "\n",
       "   2020-01-31  2020-02-29  2020-03-31  \n",
       "0    597019.0    596725.0    596432.0  \n",
       "\n",
       "[1 rows x 300 columns]"
      ]
     },
     "execution_count": 51,
     "metadata": {},
     "output_type": "execute_result"
    }
   ],
   "source": [
    "City_Zhvi_1bedroom.head(1)"
   ]
  },
  {
   "cell_type": "markdown",
   "metadata": {},
   "source": [
    "#### a simple vista se puede obserbar que en este dataset la fecha viene completa en formato año mes dia"
   ]
  },
  {
   "cell_type": "code",
   "execution_count": 52,
   "metadata": {},
   "outputs": [
    {
     "data": {
      "text/plain": [
       "(14927, 300)"
      ]
     },
     "execution_count": 52,
     "metadata": {},
     "output_type": "execute_result"
    }
   ],
   "source": [
    "City_Zhvi_1bedroom.shape"
   ]
  },
  {
   "cell_type": "code",
   "execution_count": 53,
   "metadata": {},
   "outputs": [
    {
     "name": "stdout",
     "output_type": "stream",
     "text": [
      "<class 'pandas.core.frame.DataFrame'>\n",
      "RangeIndex: 14927 entries, 0 to 14926\n",
      "Columns: 300 entries, Unnamed: 0 to 2020-03-31\n",
      "dtypes: float64(291), int64(3), object(6)\n",
      "memory usage: 34.2+ MB\n"
     ]
    }
   ],
   "source": [
    "City_Zhvi_1bedroom.info()"
   ]
  },
  {
   "cell_type": "markdown",
   "metadata": {},
   "source": [
    "Dataset City_Zhvi_5BedroomOrMore formato csv"
   ]
  },
  {
   "cell_type": "code",
   "execution_count": 5,
   "metadata": {},
   "outputs": [],
   "source": [
    "City_Zhvi_5BedroomOrMore=pd.read_csv(r'C:\\Users\\ROXI\\Downloads\\Zillow House Price Data\\City_Zhvi_5BedroomOrMore.csv')"
   ]
  },
  {
   "cell_type": "code",
   "execution_count": 6,
   "metadata": {},
   "outputs": [
    {
     "data": {
      "text/html": [
       "<div>\n",
       "<style scoped>\n",
       "    .dataframe tbody tr th:only-of-type {\n",
       "        vertical-align: middle;\n",
       "    }\n",
       "\n",
       "    .dataframe tbody tr th {\n",
       "        vertical-align: top;\n",
       "    }\n",
       "\n",
       "    .dataframe thead th {\n",
       "        text-align: right;\n",
       "    }\n",
       "</style>\n",
       "<table border=\"1\" class=\"dataframe\">\n",
       "  <thead>\n",
       "    <tr style=\"text-align: right;\">\n",
       "      <th></th>\n",
       "      <th>Unnamed: 0</th>\n",
       "      <th>RegionID</th>\n",
       "      <th>SizeRank</th>\n",
       "      <th>RegionName</th>\n",
       "      <th>RegionType</th>\n",
       "      <th>StateName</th>\n",
       "      <th>State</th>\n",
       "      <th>Metro</th>\n",
       "      <th>CountyName</th>\n",
       "      <th>1996-01-31</th>\n",
       "      <th>...</th>\n",
       "      <th>2019-06-30</th>\n",
       "      <th>2019-07-31</th>\n",
       "      <th>2019-08-31</th>\n",
       "      <th>2019-09-30</th>\n",
       "      <th>2019-10-31</th>\n",
       "      <th>2019-11-30</th>\n",
       "      <th>2019-12-31</th>\n",
       "      <th>2020-01-31</th>\n",
       "      <th>2020-02-29</th>\n",
       "      <th>2020-03-31</th>\n",
       "    </tr>\n",
       "  </thead>\n",
       "  <tbody>\n",
       "    <tr>\n",
       "      <th>0</th>\n",
       "      <td>0</td>\n",
       "      <td>6181</td>\n",
       "      <td>0</td>\n",
       "      <td>New York</td>\n",
       "      <td>City</td>\n",
       "      <td>NY</td>\n",
       "      <td>NY</td>\n",
       "      <td>New York-Newark-Jersey City</td>\n",
       "      <td>Queens County</td>\n",
       "      <td>258989.0</td>\n",
       "      <td>...</td>\n",
       "      <td>1053088.0</td>\n",
       "      <td>1052158.0</td>\n",
       "      <td>1050936.0</td>\n",
       "      <td>1049761.0</td>\n",
       "      <td>1049042.0</td>\n",
       "      <td>1047797.0</td>\n",
       "      <td>1047948.0</td>\n",
       "      <td>1048209.0</td>\n",
       "      <td>1048544.0</td>\n",
       "      <td>1048050.0</td>\n",
       "    </tr>\n",
       "  </tbody>\n",
       "</table>\n",
       "<p>1 rows × 300 columns</p>\n",
       "</div>"
      ],
      "text/plain": [
       "   Unnamed: 0  RegionID  SizeRank RegionName RegionType StateName State  \\\n",
       "0           0      6181         0   New York       City        NY    NY   \n",
       "\n",
       "                         Metro     CountyName  1996-01-31  ...  2019-06-30  \\\n",
       "0  New York-Newark-Jersey City  Queens County    258989.0  ...   1053088.0   \n",
       "\n",
       "   2019-07-31  2019-08-31  2019-09-30  2019-10-31  2019-11-30  2019-12-31  \\\n",
       "0   1052158.0   1050936.0   1049761.0   1049042.0   1047797.0   1047948.0   \n",
       "\n",
       "   2020-01-31  2020-02-29  2020-03-31  \n",
       "0   1048209.0   1048544.0   1048050.0  \n",
       "\n",
       "[1 rows x 300 columns]"
      ]
     },
     "execution_count": 6,
     "metadata": {},
     "output_type": "execute_result"
    }
   ],
   "source": [
    "City_Zhvi_5BedroomOrMore.head(1)"
   ]
  },
  {
   "cell_type": "markdown",
   "metadata": {},
   "source": [
    "#### a simple vista se puede obserbar que en este dataset la fecha viene completa en formato año mes dia"
   ]
  },
  {
   "cell_type": "code",
   "execution_count": 3,
   "metadata": {},
   "outputs": [
    {
     "data": {
      "text/plain": [
       "(18770, 300)"
      ]
     },
     "execution_count": 3,
     "metadata": {},
     "output_type": "execute_result"
    }
   ],
   "source": [
    "City_Zhvi_5BedroomOrMore.shape"
   ]
  },
  {
   "cell_type": "code",
   "execution_count": 4,
   "metadata": {},
   "outputs": [
    {
     "name": "stdout",
     "output_type": "stream",
     "text": [
      "<class 'pandas.core.frame.DataFrame'>\n",
      "RangeIndex: 18770 entries, 0 to 18769\n",
      "Columns: 300 entries, Unnamed: 0 to 2020-03-31\n",
      "dtypes: float64(291), int64(3), object(6)\n",
      "memory usage: 43.0+ MB\n"
     ]
    }
   ],
   "source": [
    "City_Zhvi_5BedroomOrMore.info()"
   ]
  },
  {
   "cell_type": "markdown",
   "metadata": {},
   "source": [
    "Dataset City_Zhvi_AllHomes formato csv"
   ]
  },
  {
   "cell_type": "code",
   "execution_count": 7,
   "metadata": {},
   "outputs": [],
   "source": [
    "City_Zhvi_AllHomes=pd.read_csv(r'C:\\Users\\ROXI\\OneDrive\\Escritorio\\grupal\\Proyecto-Grupal\\Zillow House Price Data\\City_Zhvi_AllHomes.csv')"
   ]
  },
  {
   "cell_type": "code",
   "execution_count": 10,
   "metadata": {},
   "outputs": [
    {
     "data": {
      "text/html": [
       "<div>\n",
       "<style scoped>\n",
       "    .dataframe tbody tr th:only-of-type {\n",
       "        vertical-align: middle;\n",
       "    }\n",
       "\n",
       "    .dataframe tbody tr th {\n",
       "        vertical-align: top;\n",
       "    }\n",
       "\n",
       "    .dataframe thead th {\n",
       "        text-align: right;\n",
       "    }\n",
       "</style>\n",
       "<table border=\"1\" class=\"dataframe\">\n",
       "  <thead>\n",
       "    <tr style=\"text-align: right;\">\n",
       "      <th></th>\n",
       "      <th>Unnamed: 0</th>\n",
       "      <th>RegionID</th>\n",
       "      <th>SizeRank</th>\n",
       "      <th>RegionName</th>\n",
       "      <th>RegionType</th>\n",
       "      <th>StateName</th>\n",
       "      <th>State</th>\n",
       "      <th>Metro</th>\n",
       "      <th>CountyName</th>\n",
       "      <th>1996-01-31</th>\n",
       "      <th>...</th>\n",
       "      <th>2019-06-30</th>\n",
       "      <th>2019-07-31</th>\n",
       "      <th>2019-08-31</th>\n",
       "      <th>2019-09-30</th>\n",
       "      <th>2019-10-31</th>\n",
       "      <th>2019-11-30</th>\n",
       "      <th>2019-12-31</th>\n",
       "      <th>2020-01-31</th>\n",
       "      <th>2020-02-29</th>\n",
       "      <th>2020-03-31</th>\n",
       "    </tr>\n",
       "  </thead>\n",
       "  <tbody>\n",
       "    <tr>\n",
       "      <th>0</th>\n",
       "      <td>0</td>\n",
       "      <td>6181</td>\n",
       "      <td>0</td>\n",
       "      <td>New York</td>\n",
       "      <td>City</td>\n",
       "      <td>NY</td>\n",
       "      <td>NY</td>\n",
       "      <td>New York-Newark-Jersey City</td>\n",
       "      <td>Queens County</td>\n",
       "      <td>196258.0</td>\n",
       "      <td>...</td>\n",
       "      <td>659421.0</td>\n",
       "      <td>659007.0</td>\n",
       "      <td>658239.0</td>\n",
       "      <td>656925.0</td>\n",
       "      <td>655613.0</td>\n",
       "      <td>654394.0</td>\n",
       "      <td>653930.0</td>\n",
       "      <td>653901.0</td>\n",
       "      <td>653565.0</td>\n",
       "      <td>652307.0</td>\n",
       "    </tr>\n",
       "  </tbody>\n",
       "</table>\n",
       "<p>1 rows × 300 columns</p>\n",
       "</div>"
      ],
      "text/plain": [
       "   Unnamed: 0  RegionID  SizeRank RegionName RegionType StateName State  \\\n",
       "0           0      6181         0   New York       City        NY    NY   \n",
       "\n",
       "                         Metro     CountyName  1996-01-31  ...  2019-06-30  \\\n",
       "0  New York-Newark-Jersey City  Queens County    196258.0  ...    659421.0   \n",
       "\n",
       "   2019-07-31  2019-08-31  2019-09-30  2019-10-31  2019-11-30  2019-12-31  \\\n",
       "0    659007.0    658239.0    656925.0    655613.0    654394.0    653930.0   \n",
       "\n",
       "   2020-01-31  2020-02-29  2020-03-31  \n",
       "0    653901.0    653565.0    652307.0  \n",
       "\n",
       "[1 rows x 300 columns]"
      ]
     },
     "execution_count": 10,
     "metadata": {},
     "output_type": "execute_result"
    }
   ],
   "source": [
    "City_Zhvi_AllHomes.head(1)"
   ]
  },
  {
   "cell_type": "code",
   "execution_count": 8,
   "metadata": {},
   "outputs": [
    {
     "data": {
      "text/plain": [
       "(27330, 300)"
      ]
     },
     "execution_count": 8,
     "metadata": {},
     "output_type": "execute_result"
    }
   ],
   "source": [
    "City_Zhvi_AllHomes.shape"
   ]
  },
  {
   "cell_type": "code",
   "execution_count": 9,
   "metadata": {},
   "outputs": [
    {
     "name": "stdout",
     "output_type": "stream",
     "text": [
      "<class 'pandas.core.frame.DataFrame'>\n",
      "RangeIndex: 27330 entries, 0 to 27329\n",
      "Columns: 300 entries, Unnamed: 0 to 2020-03-31\n",
      "dtypes: float64(291), int64(3), object(6)\n",
      "memory usage: 62.6+ MB\n"
     ]
    }
   ],
   "source": [
    "City_Zhvi_AllHomes.info()"
   ]
  },
  {
   "cell_type": "markdown",
   "metadata": {},
   "source": [
    "Dataset City_Zhvi_Condominum formato csv"
   ]
  },
  {
   "cell_type": "code",
   "execution_count": 14,
   "metadata": {},
   "outputs": [],
   "source": [
    "City_Zhvi_Condominum=pd.read_csv(r'C:\\Users\\ROXI\\OneDrive\\Escritorio\\grupal\\Proyecto-Grupal\\Zillow House Price Data\\City_Zhvi_Condominum.csv')"
   ]
  },
  {
   "cell_type": "code",
   "execution_count": 18,
   "metadata": {},
   "outputs": [
    {
     "data": {
      "text/html": [
       "<div>\n",
       "<style scoped>\n",
       "    .dataframe tbody tr th:only-of-type {\n",
       "        vertical-align: middle;\n",
       "    }\n",
       "\n",
       "    .dataframe tbody tr th {\n",
       "        vertical-align: top;\n",
       "    }\n",
       "\n",
       "    .dataframe thead th {\n",
       "        text-align: right;\n",
       "    }\n",
       "</style>\n",
       "<table border=\"1\" class=\"dataframe\">\n",
       "  <thead>\n",
       "    <tr style=\"text-align: right;\">\n",
       "      <th></th>\n",
       "      <th>Unnamed: 0</th>\n",
       "      <th>RegionID</th>\n",
       "      <th>SizeRank</th>\n",
       "      <th>RegionName</th>\n",
       "      <th>RegionType</th>\n",
       "      <th>StateName</th>\n",
       "      <th>State</th>\n",
       "      <th>Metro</th>\n",
       "      <th>CountyName</th>\n",
       "      <th>1996-01-31</th>\n",
       "      <th>...</th>\n",
       "      <th>2019-06-30</th>\n",
       "      <th>2019-07-31</th>\n",
       "      <th>2019-08-31</th>\n",
       "      <th>2019-09-30</th>\n",
       "      <th>2019-10-31</th>\n",
       "      <th>2019-11-30</th>\n",
       "      <th>2019-12-31</th>\n",
       "      <th>2020-01-31</th>\n",
       "      <th>2020-02-29</th>\n",
       "      <th>2020-03-31</th>\n",
       "    </tr>\n",
       "  </thead>\n",
       "  <tbody>\n",
       "    <tr>\n",
       "      <th>0</th>\n",
       "      <td>0</td>\n",
       "      <td>6181</td>\n",
       "      <td>0</td>\n",
       "      <td>New York</td>\n",
       "      <td>City</td>\n",
       "      <td>NY</td>\n",
       "      <td>NY</td>\n",
       "      <td>New York-Newark-Jersey City</td>\n",
       "      <td>Queens County</td>\n",
       "      <td>148245.0</td>\n",
       "      <td>...</td>\n",
       "      <td>639468.0</td>\n",
       "      <td>639065.0</td>\n",
       "      <td>637746.0</td>\n",
       "      <td>635577.0</td>\n",
       "      <td>633427.0</td>\n",
       "      <td>631672.0</td>\n",
       "      <td>631165.0</td>\n",
       "      <td>630900.0</td>\n",
       "      <td>630149.0</td>\n",
       "      <td>627785.0</td>\n",
       "    </tr>\n",
       "  </tbody>\n",
       "</table>\n",
       "<p>1 rows × 300 columns</p>\n",
       "</div>"
      ],
      "text/plain": [
       "   Unnamed: 0  RegionID  SizeRank RegionName RegionType StateName State  \\\n",
       "0           0      6181         0   New York       City        NY    NY   \n",
       "\n",
       "                         Metro     CountyName  1996-01-31  ...  2019-06-30  \\\n",
       "0  New York-Newark-Jersey City  Queens County    148245.0  ...    639468.0   \n",
       "\n",
       "   2019-07-31  2019-08-31  2019-09-30  2019-10-31  2019-11-30  2019-12-31  \\\n",
       "0    639065.0    637746.0    635577.0    633427.0    631672.0    631165.0   \n",
       "\n",
       "   2020-01-31  2020-02-29  2020-03-31  \n",
       "0    630900.0    630149.0    627785.0  \n",
       "\n",
       "[1 rows x 300 columns]"
      ]
     },
     "execution_count": 18,
     "metadata": {},
     "output_type": "execute_result"
    }
   ],
   "source": [
    "City_Zhvi_Condominum"
   ]
  },
  {
   "cell_type": "markdown",
   "metadata": {},
   "source": [
    "#### a simple vista se puede obserbar que en este dataset la fecha viene completa en formato año mes dia"
   ]
  },
  {
   "cell_type": "code",
   "execution_count": 19,
   "metadata": {},
   "outputs": [
    {
     "data": {
      "text/plain": [
       "(1, 300)"
      ]
     },
     "execution_count": 19,
     "metadata": {},
     "output_type": "execute_result"
    }
   ],
   "source": [
    "City_Zhvi_Condominum.shape"
   ]
  },
  {
   "cell_type": "code",
   "execution_count": 20,
   "metadata": {},
   "outputs": [
    {
     "name": "stdout",
     "output_type": "stream",
     "text": [
      "<class 'pandas.core.frame.DataFrame'>\n",
      "RangeIndex: 1 entries, 0 to 0\n",
      "Columns: 300 entries, Unnamed: 0 to 2020-03-31\n",
      "dtypes: float64(291), int64(3), object(6)\n",
      "memory usage: 2.5+ KB\n"
     ]
    }
   ],
   "source": [
    "City_Zhvi_Condominum.info()"
   ]
  },
  {
   "cell_type": "markdown",
   "metadata": {},
   "source": [
    "Dataset City_Zhvi_SingleFamilyResidence formato csv"
   ]
  },
  {
   "cell_type": "code",
   "execution_count": 22,
   "metadata": {},
   "outputs": [],
   "source": [
    "City_Zhvi_SingleFamilyResidence=pd.read_csv(r'C:\\Users\\ROXI\\OneDrive\\Escritorio\\grupal\\Proyecto-Grupal\\Zillow House Price Data\\City_Zhvi_SingleFamilyResidence.csv')"
   ]
  },
  {
   "cell_type": "code",
   "execution_count": 23,
   "metadata": {},
   "outputs": [
    {
     "data": {
      "text/html": [
       "<div>\n",
       "<style scoped>\n",
       "    .dataframe tbody tr th:only-of-type {\n",
       "        vertical-align: middle;\n",
       "    }\n",
       "\n",
       "    .dataframe tbody tr th {\n",
       "        vertical-align: top;\n",
       "    }\n",
       "\n",
       "    .dataframe thead th {\n",
       "        text-align: right;\n",
       "    }\n",
       "</style>\n",
       "<table border=\"1\" class=\"dataframe\">\n",
       "  <thead>\n",
       "    <tr style=\"text-align: right;\">\n",
       "      <th></th>\n",
       "      <th>Unnamed: 0</th>\n",
       "      <th>RegionID</th>\n",
       "      <th>SizeRank</th>\n",
       "      <th>RegionName</th>\n",
       "      <th>RegionType</th>\n",
       "      <th>StateName</th>\n",
       "      <th>State</th>\n",
       "      <th>Metro</th>\n",
       "      <th>CountyName</th>\n",
       "      <th>1996-01-31</th>\n",
       "      <th>...</th>\n",
       "      <th>2019-06-30</th>\n",
       "      <th>2019-07-31</th>\n",
       "      <th>2019-08-31</th>\n",
       "      <th>2019-09-30</th>\n",
       "      <th>2019-10-31</th>\n",
       "      <th>2019-11-30</th>\n",
       "      <th>2019-12-31</th>\n",
       "      <th>2020-01-31</th>\n",
       "      <th>2020-02-29</th>\n",
       "      <th>2020-03-31</th>\n",
       "    </tr>\n",
       "  </thead>\n",
       "  <tbody>\n",
       "    <tr>\n",
       "      <th>0</th>\n",
       "      <td>0</td>\n",
       "      <td>6181</td>\n",
       "      <td>0</td>\n",
       "      <td>New York</td>\n",
       "      <td>City</td>\n",
       "      <td>NY</td>\n",
       "      <td>NY</td>\n",
       "      <td>New York-Newark-Jersey City</td>\n",
       "      <td>Queens County</td>\n",
       "      <td>208545.0</td>\n",
       "      <td>...</td>\n",
       "      <td>672433.0</td>\n",
       "      <td>671924.0</td>\n",
       "      <td>671423.0</td>\n",
       "      <td>670719.0</td>\n",
       "      <td>669974.0</td>\n",
       "      <td>669118.0</td>\n",
       "      <td>668736.0</td>\n",
       "      <td>668740.0</td>\n",
       "      <td>668581.0</td>\n",
       "      <td>668030.0</td>\n",
       "    </tr>\n",
       "  </tbody>\n",
       "</table>\n",
       "<p>1 rows × 300 columns</p>\n",
       "</div>"
      ],
      "text/plain": [
       "   Unnamed: 0  RegionID  SizeRank RegionName RegionType StateName State  \\\n",
       "0           0      6181         0   New York       City        NY    NY   \n",
       "\n",
       "                         Metro     CountyName  1996-01-31  ...  2019-06-30  \\\n",
       "0  New York-Newark-Jersey City  Queens County    208545.0  ...    672433.0   \n",
       "\n",
       "   2019-07-31  2019-08-31  2019-09-30  2019-10-31  2019-11-30  2019-12-31  \\\n",
       "0    671924.0    671423.0    670719.0    669974.0    669118.0    668736.0   \n",
       "\n",
       "   2020-01-31  2020-02-29  2020-03-31  \n",
       "0    668740.0    668581.0    668030.0  \n",
       "\n",
       "[1 rows x 300 columns]"
      ]
     },
     "execution_count": 23,
     "metadata": {},
     "output_type": "execute_result"
    }
   ],
   "source": [
    "City_Zhvi_SingleFamilyResidence.head(1)"
   ]
  },
  {
   "cell_type": "code",
   "execution_count": 24,
   "metadata": {},
   "outputs": [
    {
     "data": {
      "text/plain": [
       "(27326, 300)"
      ]
     },
     "execution_count": 24,
     "metadata": {},
     "output_type": "execute_result"
    }
   ],
   "source": [
    "City_Zhvi_SingleFamilyResidence.shape"
   ]
  },
  {
   "cell_type": "code",
   "execution_count": 25,
   "metadata": {},
   "outputs": [
    {
     "name": "stdout",
     "output_type": "stream",
     "text": [
      "<class 'pandas.core.frame.DataFrame'>\n",
      "RangeIndex: 27326 entries, 0 to 27325\n",
      "Columns: 300 entries, Unnamed: 0 to 2020-03-31\n",
      "dtypes: float64(291), int64(3), object(6)\n",
      "memory usage: 62.5+ MB\n"
     ]
    }
   ],
   "source": [
    "City_Zhvi_SingleFamilyResidence.info()"
   ]
  },
  {
   "cell_type": "markdown",
   "metadata": {},
   "source": [
    "#### a simple vista se puede obserbar que en este dataset la fecha viene completa en formato año mes dia"
   ]
  },
  {
   "cell_type": "code",
   "execution_count": 28,
   "metadata": {},
   "outputs": [],
   "source": [
    "City_Zri_AllHomesPlusMultifamily=pd.read_csv(r'C:\\Users\\ROXI\\OneDrive\\Escritorio\\grupal\\Proyecto-Grupal\\Zillow House Price Data\\City_Zri_AllHomesPlusMultifamily.csv')"
   ]
  },
  {
   "cell_type": "code",
   "execution_count": 29,
   "metadata": {},
   "outputs": [
    {
     "data": {
      "text/html": [
       "<div>\n",
       "<style scoped>\n",
       "    .dataframe tbody tr th:only-of-type {\n",
       "        vertical-align: middle;\n",
       "    }\n",
       "\n",
       "    .dataframe tbody tr th {\n",
       "        vertical-align: top;\n",
       "    }\n",
       "\n",
       "    .dataframe thead th {\n",
       "        text-align: right;\n",
       "    }\n",
       "</style>\n",
       "<table border=\"1\" class=\"dataframe\">\n",
       "  <thead>\n",
       "    <tr style=\"text-align: right;\">\n",
       "      <th></th>\n",
       "      <th>Unnamed: 0</th>\n",
       "      <th>RegionID</th>\n",
       "      <th>RegionName</th>\n",
       "      <th>State</th>\n",
       "      <th>Metro</th>\n",
       "      <th>CountyName</th>\n",
       "      <th>SizeRank</th>\n",
       "      <th>2010-09</th>\n",
       "      <th>2010-10</th>\n",
       "      <th>2010-11</th>\n",
       "      <th>...</th>\n",
       "      <th>2019-04</th>\n",
       "      <th>2019-05</th>\n",
       "      <th>2019-06</th>\n",
       "      <th>2019-07</th>\n",
       "      <th>2019-08</th>\n",
       "      <th>2019-09</th>\n",
       "      <th>2019-10</th>\n",
       "      <th>2019-11</th>\n",
       "      <th>2019-12</th>\n",
       "      <th>2020-01</th>\n",
       "    </tr>\n",
       "  </thead>\n",
       "  <tbody>\n",
       "    <tr>\n",
       "      <th>0</th>\n",
       "      <td>0</td>\n",
       "      <td>6181</td>\n",
       "      <td>New York</td>\n",
       "      <td>NY</td>\n",
       "      <td>New York-Newark-Jersey City</td>\n",
       "      <td>Queens County</td>\n",
       "      <td>1</td>\n",
       "      <td>1658.0</td>\n",
       "      <td>1676.0</td>\n",
       "      <td>1685.0</td>\n",
       "      <td>...</td>\n",
       "      <td>2320.0</td>\n",
       "      <td>2321.0</td>\n",
       "      <td>2325.0</td>\n",
       "      <td>2333.0</td>\n",
       "      <td>2342.0</td>\n",
       "      <td>2349.0</td>\n",
       "      <td>2374.0</td>\n",
       "      <td>2389.0</td>\n",
       "      <td>2395.0</td>\n",
       "      <td>2390.0</td>\n",
       "    </tr>\n",
       "  </tbody>\n",
       "</table>\n",
       "<p>1 rows × 120 columns</p>\n",
       "</div>"
      ],
      "text/plain": [
       "   Unnamed: 0  RegionID RegionName State                        Metro  \\\n",
       "0           0      6181   New York    NY  New York-Newark-Jersey City   \n",
       "\n",
       "      CountyName  SizeRank  2010-09  2010-10  2010-11  ...  2019-04  2019-05  \\\n",
       "0  Queens County         1   1658.0   1676.0   1685.0  ...   2320.0   2321.0   \n",
       "\n",
       "   2019-06  2019-07  2019-08  2019-09  2019-10  2019-11  2019-12  2020-01  \n",
       "0   2325.0   2333.0   2342.0   2349.0   2374.0   2389.0   2395.0   2390.0  \n",
       "\n",
       "[1 rows x 120 columns]"
      ]
     },
     "execution_count": 29,
     "metadata": {},
     "output_type": "execute_result"
    }
   ],
   "source": [
    "City_Zri_AllHomesPlusMultifamily.head(1)"
   ]
  },
  {
   "cell_type": "code",
   "execution_count": 30,
   "metadata": {},
   "outputs": [
    {
     "data": {
      "text/plain": [
       "(9239, 120)"
      ]
     },
     "execution_count": 30,
     "metadata": {},
     "output_type": "execute_result"
    }
   ],
   "source": [
    "City_Zri_AllHomesPlusMultifamily.shape"
   ]
  },
  {
   "cell_type": "code",
   "execution_count": 31,
   "metadata": {},
   "outputs": [
    {
     "name": "stdout",
     "output_type": "stream",
     "text": [
      "<class 'pandas.core.frame.DataFrame'>\n",
      "RangeIndex: 9239 entries, 0 to 9238\n",
      "Columns: 120 entries, Unnamed: 0 to 2020-01\n",
      "dtypes: float64(113), int64(3), object(4)\n",
      "memory usage: 8.5+ MB\n"
     ]
    }
   ],
   "source": [
    "City_Zri_AllHomesPlusMultifamily.info()"
   ]
  },
  {
   "cell_type": "code",
   "execution_count": null,
   "metadata": {},
   "outputs": [],
   "source": []
  },
  {
   "cell_type": "code",
   "execution_count": 2,
   "metadata": {},
   "outputs": [],
   "source": [
    "csv_files = glob.glob('*.csv')\n",
    "lista_data = []\n",
    "  \n",
    "# Creamos un bucle que recorre cada archivo csv de la carpeta, crea un df y lo agrega a una lista\n",
    "for filename in csv_files:\n",
    "    data = pd.read_csv(filename)\n",
    "    lista_data.append(data)"
   ]
  },
  {
   "cell_type": "code",
   "execution_count": 3,
   "metadata": {},
   "outputs": [
    {
     "name": "stdout",
     "output_type": "stream",
     "text": [
      "   City Code          City         Metro        County State  Population Rank  \\\n",
      "0       6181      New York      New York        Queens    NY                1   \n",
      "1      12447   Los Angeles   Los Angeles   Los Angeles    CA                2   \n",
      "2      17426       Chicago       Chicago          Cook    IL                3   \n",
      "3      39051       Houston       Houston        Harris    TX                4   \n",
      "4      13271  Philadelphia  Philadelphia  Philadelphia    PA                5   \n",
      "\n",
      "   November 2010  December 2010  January 2011  February 2011  ...  April 2016  \\\n",
      "0            NaN            NaN           NaN            NaN  ...        2334   \n",
      "1         2184.0         2184.0        2183.0         2188.0  ...        2637   \n",
      "2         1563.0         1555.0        1547.0         1537.0  ...        1684   \n",
      "3         1198.0         1199.0        1199.0         1200.0  ...        1444   \n",
      "4         1092.0         1099.0        1094.0         1087.0  ...        1206   \n",
      "\n",
      "   May 2016  June 2016  July 2016  August 2016  September 2016  October 2016  \\\n",
      "0      2339       2345       2344         2336            2324          2318   \n",
      "1      2662       2687       2704         2716            2723          2731   \n",
      "2      1686       1687       1685         1681            1675          1668   \n",
      "3      1446       1446       1443         1440            1438          1437   \n",
      "4      1211       1218       1222         1223            1220          1216   \n",
      "\n",
      "   November 2016  December 2016  January 2017  \n",
      "0           2321           2321          2322  \n",
      "1           2740           2748          2753  \n",
      "2           1656           1644          1632  \n",
      "3           1437           1435          1430  \n",
      "4           1211           1209          1212  \n",
      "\n",
      "[5 rows x 81 columns]\n",
      "   City Code          City         Metro        County State  Population Rank  \\\n",
      "0       6181      New York      New York        Queens    NY                1   \n",
      "1      12447   Los Angeles   Los Angeles   Los Angeles    CA                2   \n",
      "2      17426       Chicago       Chicago          Cook    IL                3   \n",
      "3      39051       Houston       Houston        Harris    TX                4   \n",
      "4      13271  Philadelphia  Philadelphia  Philadelphia    PA                5   \n",
      "\n",
      "   November 2010  December 2010  January 2011  February 2011  ...  April 2016  \\\n",
      "0            NaN            NaN           NaN            NaN  ...       1.806   \n",
      "1          1.578          1.578         1.580          1.582  ...       1.990   \n",
      "2          1.244          1.248         1.254          1.254  ...       1.354   \n",
      "3          0.788          0.784         0.784          0.786  ...       0.984   \n",
      "4          0.854          0.858         0.858          0.858  ...       0.948   \n",
      "\n",
      "   May 2016  June 2016  July 2016  August 2016  September 2016  October 2016  \\\n",
      "0     1.810      1.816      1.824        1.828           1.836         1.844   \n",
      "1     2.004      2.018      2.026        2.032           2.038         2.042   \n",
      "2     1.362      1.370      1.374        1.378           1.380         1.380   \n",
      "3     0.984      0.982      0.980        0.976           0.974         0.974   \n",
      "4     0.956      0.962      0.964        0.964           0.966         0.968   \n",
      "\n",
      "   November 2016  December 2016  January 2017  \n",
      "0          1.858          1.866         1.872  \n",
      "1          2.048          2.056         2.064  \n",
      "2          1.380          1.376         1.374  \n",
      "3          0.976          0.976         0.974  \n",
      "4          0.972          0.974         0.974  \n",
      "\n",
      "[5 rows x 81 columns]\n"
     ]
    }
   ],
   "source": [
    "for df in lista_data:\n",
    "    print(df.head(5))"
   ]
  },
  {
   "cell_type": "code",
   "execution_count": 4,
   "metadata": {},
   "outputs": [
    {
     "name": "stdout",
     "output_type": "stream",
     "text": [
      "<class 'pandas.core.frame.DataFrame'>\n",
      "RangeIndex: 13131 entries, 0 to 13130\n",
      "Data columns (total 81 columns):\n",
      " #   Column           Non-Null Count  Dtype  \n",
      "---  ------           --------------  -----  \n",
      " 0   City Code        13131 non-null  int64  \n",
      " 1   City             13131 non-null  object \n",
      " 2   Metro            11899 non-null  object \n",
      " 3   County           13131 non-null  object \n",
      " 4   State            13131 non-null  object \n",
      " 5   Population Rank  13131 non-null  int64  \n",
      " 6   November 2010    11348 non-null  float64\n",
      " 7   December 2010    11348 non-null  float64\n",
      " 8   January 2011     11348 non-null  float64\n",
      " 9   February 2011    11500 non-null  float64\n",
      " 10  March 2011       11673 non-null  float64\n",
      " 11  April 2011       11722 non-null  float64\n",
      " 12  May 2011         11732 non-null  float64\n",
      " 13  June 2011        11732 non-null  float64\n",
      " 14  July 2011        11732 non-null  float64\n",
      " 15  August 2011      11732 non-null  float64\n",
      " 16  September 2011   11734 non-null  float64\n",
      " 17  October 2011     11748 non-null  float64\n",
      " 18  November 2011    11748 non-null  float64\n",
      " 19  December 2011    11969 non-null  float64\n",
      " 20  January 2012     11969 non-null  float64\n",
      " 21  February 2012    11969 non-null  float64\n",
      " 22  March 2012       11969 non-null  float64\n",
      " 23  April 2012       13131 non-null  int64  \n",
      " 24  May 2012         13131 non-null  int64  \n",
      " 25  June 2012        13131 non-null  int64  \n",
      " 26  July 2012        13131 non-null  int64  \n",
      " 27  August 2012      13131 non-null  int64  \n",
      " 28  September 2012   13131 non-null  int64  \n",
      " 29  October 2012     13131 non-null  int64  \n",
      " 30  November 2012    13131 non-null  int64  \n",
      " 31  December 2012    13131 non-null  int64  \n",
      " 32  January 2013     13131 non-null  int64  \n",
      " 33  February 2013    13131 non-null  int64  \n",
      " 34  March 2013       13131 non-null  int64  \n",
      " 35  April 2013       13131 non-null  int64  \n",
      " 36  May 2013         13131 non-null  int64  \n",
      " 37  June 2013        13131 non-null  int64  \n",
      " 38  July 2013        13131 non-null  int64  \n",
      " 39  August 2013      13131 non-null  int64  \n",
      " 40  September 2013   13131 non-null  int64  \n",
      " 41  October 2013     13131 non-null  int64  \n",
      " 42  November 2013    13131 non-null  int64  \n",
      " 43  December 2013    13131 non-null  int64  \n",
      " 44  January 2014     13131 non-null  int64  \n",
      " 45  February 2014    13131 non-null  int64  \n",
      " 46  March 2014       13131 non-null  int64  \n",
      " 47  April 2014       13131 non-null  int64  \n",
      " 48  May 2014         13131 non-null  int64  \n",
      " 49  June 2014        13131 non-null  int64  \n",
      " 50  July 2014        13131 non-null  int64  \n",
      " 51  August 2014      13131 non-null  int64  \n",
      " 52  September 2014   13131 non-null  int64  \n",
      " 53  October 2014     13131 non-null  int64  \n",
      " 54  November 2014    13131 non-null  int64  \n",
      " 55  December 2014    13131 non-null  int64  \n",
      " 56  January 2015     13131 non-null  int64  \n",
      " 57  February 2015    13131 non-null  int64  \n",
      " 58  March 2015       13131 non-null  int64  \n",
      " 59  April 2015       13131 non-null  int64  \n",
      " 60  May 2015         13131 non-null  int64  \n",
      " 61  June 2015        13131 non-null  int64  \n",
      " 62  July 2015        13131 non-null  int64  \n",
      " 63  August 2015      13131 non-null  int64  \n",
      " 64  September 2015   13131 non-null  int64  \n",
      " 65  October 2015     13131 non-null  int64  \n",
      " 66  November 2015    13131 non-null  int64  \n",
      " 67  December 2015    13131 non-null  int64  \n",
      " 68  January 2016     13131 non-null  int64  \n",
      " 69  February 2016    13131 non-null  int64  \n",
      " 70  March 2016       13131 non-null  int64  \n",
      " 71  April 2016       13131 non-null  int64  \n",
      " 72  May 2016         13131 non-null  int64  \n",
      " 73  June 2016        13131 non-null  int64  \n",
      " 74  July 2016        13131 non-null  int64  \n",
      " 75  August 2016      13131 non-null  int64  \n",
      " 76  September 2016   13131 non-null  int64  \n",
      " 77  October 2016     13131 non-null  int64  \n",
      " 78  November 2016    13131 non-null  int64  \n",
      " 79  December 2016    13131 non-null  int64  \n",
      " 80  January 2017     13131 non-null  int64  \n",
      "dtypes: float64(17), int64(60), object(4)\n",
      "memory usage: 8.1+ MB\n",
      "None\n",
      "<class 'pandas.core.frame.DataFrame'>\n",
      "RangeIndex: 11919 entries, 0 to 11918\n",
      "Data columns (total 81 columns):\n",
      " #   Column           Non-Null Count  Dtype  \n",
      "---  ------           --------------  -----  \n",
      " 0   City Code        11919 non-null  int64  \n",
      " 1   City             11919 non-null  object \n",
      " 2   Metro            11003 non-null  object \n",
      " 3   County           11919 non-null  object \n",
      " 4   State            11919 non-null  object \n",
      " 5   Population Rank  11919 non-null  int64  \n",
      " 6   November 2010    10600 non-null  float64\n",
      " 7   December 2010    10600 non-null  float64\n",
      " 8   January 2011     10600 non-null  float64\n",
      " 9   February 2011    10744 non-null  float64\n",
      " 10  March 2011       10829 non-null  float64\n",
      " 11  April 2011       10878 non-null  float64\n",
      " 12  May 2011         10885 non-null  float64\n",
      " 13  June 2011        10885 non-null  float64\n",
      " 14  July 2011        10885 non-null  float64\n",
      " 15  August 2011      10885 non-null  float64\n",
      " 16  September 2011   10886 non-null  float64\n",
      " 17  October 2011     10900 non-null  float64\n",
      " 18  November 2011    10900 non-null  float64\n",
      " 19  December 2011    11120 non-null  float64\n",
      " 20  January 2012     11120 non-null  float64\n",
      " 21  February 2012    11120 non-null  float64\n",
      " 22  March 2012       11120 non-null  float64\n",
      " 23  April 2012       11919 non-null  float64\n",
      " 24  May 2012         11919 non-null  float64\n",
      " 25  June 2012        11919 non-null  float64\n",
      " 26  July 2012        11919 non-null  float64\n",
      " 27  August 2012      11919 non-null  float64\n",
      " 28  September 2012   11919 non-null  float64\n",
      " 29  October 2012     11919 non-null  float64\n",
      " 30  November 2012    11919 non-null  float64\n",
      " 31  December 2012    11919 non-null  float64\n",
      " 32  January 2013     11919 non-null  float64\n",
      " 33  February 2013    11919 non-null  float64\n",
      " 34  March 2013       11919 non-null  float64\n",
      " 35  April 2013       11919 non-null  float64\n",
      " 36  May 2013         11919 non-null  float64\n",
      " 37  June 2013        11919 non-null  float64\n",
      " 38  July 2013        11919 non-null  float64\n",
      " 39  August 2013      11919 non-null  float64\n",
      " 40  September 2013   11919 non-null  float64\n",
      " 41  October 2013     11919 non-null  float64\n",
      " 42  November 2013    11919 non-null  float64\n",
      " 43  December 2013    11919 non-null  float64\n",
      " 44  January 2014     11919 non-null  float64\n",
      " 45  February 2014    11919 non-null  float64\n",
      " 46  March 2014       11919 non-null  float64\n",
      " 47  April 2014       11919 non-null  float64\n",
      " 48  May 2014         11919 non-null  float64\n",
      " 49  June 2014        11919 non-null  float64\n",
      " 50  July 2014        11919 non-null  float64\n",
      " 51  August 2014      11919 non-null  float64\n",
      " 52  September 2014   11919 non-null  float64\n",
      " 53  October 2014     11919 non-null  float64\n",
      " 54  November 2014    11919 non-null  float64\n",
      " 55  December 2014    11919 non-null  float64\n",
      " 56  January 2015     11919 non-null  float64\n",
      " 57  February 2015    11919 non-null  float64\n",
      " 58  March 2015       11919 non-null  float64\n",
      " 59  April 2015       11919 non-null  float64\n",
      " 60  May 2015         11919 non-null  float64\n",
      " 61  June 2015        11919 non-null  float64\n",
      " 62  July 2015        11919 non-null  float64\n",
      " 63  August 2015      11919 non-null  float64\n",
      " 64  September 2015   11919 non-null  float64\n",
      " 65  October 2015     11919 non-null  float64\n",
      " 66  November 2015    11919 non-null  float64\n",
      " 67  December 2015    11919 non-null  float64\n",
      " 68  January 2016     11919 non-null  float64\n",
      " 69  February 2016    11919 non-null  float64\n",
      " 70  March 2016       11919 non-null  float64\n",
      " 71  April 2016       11919 non-null  float64\n",
      " 72  May 2016         11919 non-null  float64\n",
      " 73  June 2016        11919 non-null  float64\n",
      " 74  July 2016        11919 non-null  float64\n",
      " 75  August 2016      11919 non-null  float64\n",
      " 76  September 2016   11919 non-null  float64\n",
      " 77  October 2016     11919 non-null  float64\n",
      " 78  November 2016    11919 non-null  float64\n",
      " 79  December 2016    11919 non-null  float64\n",
      " 80  January 2017     11919 non-null  float64\n",
      "dtypes: float64(75), int64(2), object(4)\n",
      "memory usage: 7.4+ MB\n",
      "None\n"
     ]
    }
   ],
   "source": [
    "for df in lista_data:\n",
    "    print(df.info())"
   ]
  },
  {
   "cell_type": "code",
   "execution_count": 6,
   "metadata": {},
   "outputs": [
    {
     "name": "stdout",
     "output_type": "stream",
     "text": [
      "           City Code  Population Rank  November 2010  December 2010  \\\n",
      "count   13131.000000     13131.000000   11348.000000   11348.000000   \n",
      "mean    78126.756454      6566.000000    1327.100458    1331.831953   \n",
      "std    119604.910806      3790.737527     652.531343     655.822002   \n",
      "min      3300.000000         1.000000     547.000000     539.000000   \n",
      "25%     18803.000000      3283.500000     982.000000     984.750000   \n",
      "50%     34678.000000      6566.000000    1195.000000    1199.000000   \n",
      "75%     51385.500000      9848.500000    1479.000000    1479.000000   \n",
      "max    737791.000000     13131.000000   18787.000000   18848.000000   \n",
      "\n",
      "       January 2011  February 2011    March 2011    April 2011      May 2011  \\\n",
      "count  11348.000000   11500.000000  11673.000000  11722.000000  11732.000000   \n",
      "mean    1334.447744    1331.935217   1327.595819   1323.824518   1321.730822   \n",
      "std      653.931315     647.853483    640.168818    636.392831    633.675563   \n",
      "min      536.000000     542.000000    535.000000    533.000000    533.000000   \n",
      "25%      986.000000     984.000000    979.000000    973.000000    971.000000   \n",
      "50%     1201.500000    1201.000000   1201.000000   1196.000000   1194.000000   \n",
      "75%     1479.000000    1477.000000   1473.000000   1471.000000   1472.000000   \n",
      "max    19054.000000   19019.000000  18997.000000  18939.000000  19119.000000   \n",
      "\n",
      "          June 2011  ...    April 2016      May 2016     June 2016  \\\n",
      "count  11732.000000  ...  13131.000000  13131.000000  13131.000000   \n",
      "mean    1321.872826  ...   1466.406519   1470.625695   1472.876856   \n",
      "std      631.981504  ...    813.253498    815.322324    819.417181   \n",
      "min      536.000000  ...    543.000000    548.000000    547.000000   \n",
      "25%      972.000000  ...   1041.000000   1044.000000   1046.000000   \n",
      "50%     1193.000000  ...   1275.000000   1277.000000   1278.000000   \n",
      "75%     1473.000000  ...   1625.000000   1630.000000   1633.000000   \n",
      "max    19442.000000  ...  21344.000000  20547.000000  20400.000000   \n",
      "\n",
      "          July 2016   August 2016  September 2016  October 2016  \\\n",
      "count  13131.000000  13131.000000    13131.000000  13131.000000   \n",
      "mean    1471.627370   1468.666667     1465.817988   1465.572157   \n",
      "std      823.317848    825.885842      826.421670    825.621199   \n",
      "min      544.000000    539.000000      532.000000    527.000000   \n",
      "25%     1043.500000   1038.000000     1034.000000   1032.000000   \n",
      "50%     1276.000000   1270.000000     1268.000000   1266.000000   \n",
      "75%     1629.000000   1628.000000     1628.000000   1630.500000   \n",
      "max    20639.000000  20695.000000    20615.000000  20163.000000   \n",
      "\n",
      "       November 2016  December 2016  January 2017  \n",
      "count   13131.000000   13131.000000  13131.000000  \n",
      "mean     1467.105247    1467.524636   1467.296550  \n",
      "std       824.678612     821.891626    820.707579  \n",
      "min       518.000000     517.000000    518.000000  \n",
      "25%      1033.000000    1034.000000   1035.000000  \n",
      "50%      1267.000000    1267.000000   1264.000000  \n",
      "75%      1630.000000    1632.000000   1634.000000  \n",
      "max     19460.000000   18605.000000  17985.000000  \n",
      "\n",
      "[8 rows x 77 columns]\n",
      "           City Code  Population Rank  November 2010  December 2010  \\\n",
      "count   11919.000000     11919.000000   10600.000000   10600.000000   \n",
      "mean    77097.011998      5960.000000       0.860989       0.863896   \n",
      "std    118093.323482      3440.863264       0.286088       0.286489   \n",
      "min      3300.000000         1.000000       0.360000       0.358000   \n",
      "25%     18762.000000      2980.500000       0.676000       0.678000   \n",
      "50%     34637.000000      5960.000000       0.796000       0.799000   \n",
      "75%     51298.500000      8939.500000       0.972000       0.974000   \n",
      "max    737791.000000     11919.000000       4.482000       4.508000   \n",
      "\n",
      "       January 2011  February 2011    March 2011    April 2011      May 2011  \\\n",
      "count  10600.000000   10744.000000  10829.000000  10878.000000  10885.000000   \n",
      "mean       0.865602       0.864939      0.862232      0.860946      0.859769   \n",
      "std        0.284910       0.281532      0.278903      0.277075      0.275870   \n",
      "min        0.358000       0.358000      0.362000      0.366000      0.366000   \n",
      "25%        0.680000       0.682000      0.680000      0.678000      0.678000   \n",
      "50%        0.802000       0.802000      0.800000      0.800000      0.798000   \n",
      "75%        0.976000       0.972000      0.970000      0.968000      0.968000   \n",
      "max        4.558000       4.564000      4.548000      4.536000      4.528000   \n",
      "\n",
      "          June 2011  ...    April 2016      May 2016     June 2016  \\\n",
      "count  10885.000000  ...  11919.000000  11919.000000  11919.000000   \n",
      "mean       0.859848  ...      0.958509      0.962608      0.964971   \n",
      "std        0.275311  ...      0.371177      0.373848      0.376643   \n",
      "min        0.366000  ...      0.394000      0.392000      0.388000   \n",
      "25%        0.678000  ...      0.732000      0.734000      0.734000   \n",
      "50%        0.800000  ...      0.870000      0.872000      0.872000   \n",
      "75%        0.968000  ...      1.072000      1.076000      1.080000   \n",
      "max        4.536000  ...      6.252000      6.342000      6.404000   \n",
      "\n",
      "          July 2016   August 2016  September 2016  October 2016  \\\n",
      "count  11919.000000  11919.000000    11919.000000  11919.000000   \n",
      "mean       0.964989      0.963645        0.962379      0.962570   \n",
      "std        0.378865      0.380334        0.381100      0.381545   \n",
      "min        0.384000      0.382000        0.378000      0.378000   \n",
      "25%        0.732000      0.730000        0.728000      0.728000   \n",
      "50%        0.872000      0.870000        0.870000      0.870000   \n",
      "75%        1.082000      1.080000        1.080000      1.082000   \n",
      "max        6.452000      6.476000        6.486000      6.476000   \n",
      "\n",
      "       November 2016  December 2016  January 2017  \n",
      "count   11919.000000   11919.000000  11919.000000  \n",
      "mean        0.963743       0.964275      0.964356  \n",
      "std         0.381775       0.381395      0.381297  \n",
      "min         0.378000       0.378000      0.378000  \n",
      "25%         0.728000       0.730000      0.732000  \n",
      "50%         0.870000       0.872000      0.872000  \n",
      "75%         1.082000       1.080000      1.080000  \n",
      "max         6.470000       6.440000      6.406000  \n",
      "\n",
      "[8 rows x 77 columns]\n"
     ]
    }
   ],
   "source": [
    "for df in lista_data:\n",
    "    print(df.describe())"
   ]
  },
  {
   "cell_type": "code",
   "execution_count": 7,
   "metadata": {},
   "outputs": [
    {
     "name": "stdout",
     "output_type": "stream",
     "text": [
      "           City     Metro     County  State\n",
      "count     13131     11899      13131  13131\n",
      "unique     9670       701       1227     51\n",
      "top     Clinton  New York  Jefferson     PA\n",
      "freq         18       595        197   1260\n",
      "           City     Metro      County  State\n",
      "count     11919     11003       11919  11919\n",
      "unique     8971       678        1147     51\n",
      "top     Clinton  New York  Montgomery     PA\n",
      "freq         17       583         188   1114\n"
     ]
    }
   ],
   "source": [
    "for df in lista_data:\n",
    "    print(df.describe(exclude=[np.number]))"
   ]
  },
  {
   "cell_type": "code",
   "execution_count": 8,
   "metadata": {},
   "outputs": [
    {
     "name": "stdout",
     "output_type": "stream",
     "text": [
      "City Code \t 0.0 %\n",
      "City \t 0.0 %\n",
      "Metro \t 9.38 %\n",
      "County \t 0.0 %\n",
      "State \t 0.0 %\n",
      "Population Rank \t 0.0 %\n",
      "November 2010 \t 13.58 %\n",
      "December 2010 \t 13.58 %\n",
      "January 2011 \t 13.58 %\n",
      "February 2011 \t 12.42 %\n",
      "March 2011 \t 11.1 %\n",
      "April 2011 \t 10.73 %\n",
      "May 2011 \t 10.65 %\n",
      "June 2011 \t 10.65 %\n",
      "July 2011 \t 10.65 %\n",
      "August 2011 \t 10.65 %\n",
      "September 2011 \t 10.64 %\n",
      "October 2011 \t 10.53 %\n",
      "November 2011 \t 10.53 %\n",
      "December 2011 \t 8.85 %\n",
      "January 2012 \t 8.85 %\n",
      "February 2012 \t 8.85 %\n",
      "March 2012 \t 8.85 %\n",
      "April 2012 \t 0.0 %\n",
      "May 2012 \t 0.0 %\n",
      "June 2012 \t 0.0 %\n",
      "July 2012 \t 0.0 %\n",
      "August 2012 \t 0.0 %\n",
      "September 2012 \t 0.0 %\n",
      "October 2012 \t 0.0 %\n",
      "November 2012 \t 0.0 %\n",
      "December 2012 \t 0.0 %\n",
      "January 2013 \t 0.0 %\n",
      "February 2013 \t 0.0 %\n",
      "March 2013 \t 0.0 %\n",
      "April 2013 \t 0.0 %\n",
      "May 2013 \t 0.0 %\n",
      "June 2013 \t 0.0 %\n",
      "July 2013 \t 0.0 %\n",
      "August 2013 \t 0.0 %\n",
      "September 2013 \t 0.0 %\n",
      "October 2013 \t 0.0 %\n",
      "November 2013 \t 0.0 %\n",
      "December 2013 \t 0.0 %\n",
      "January 2014 \t 0.0 %\n",
      "February 2014 \t 0.0 %\n",
      "March 2014 \t 0.0 %\n",
      "April 2014 \t 0.0 %\n",
      "May 2014 \t 0.0 %\n",
      "June 2014 \t 0.0 %\n",
      "July 2014 \t 0.0 %\n",
      "August 2014 \t 0.0 %\n",
      "September 2014 \t 0.0 %\n",
      "October 2014 \t 0.0 %\n",
      "November 2014 \t 0.0 %\n",
      "December 2014 \t 0.0 %\n",
      "January 2015 \t 0.0 %\n",
      "February 2015 \t 0.0 %\n",
      "March 2015 \t 0.0 %\n",
      "April 2015 \t 0.0 %\n",
      "May 2015 \t 0.0 %\n",
      "June 2015 \t 0.0 %\n",
      "July 2015 \t 0.0 %\n",
      "August 2015 \t 0.0 %\n",
      "September 2015 \t 0.0 %\n",
      "October 2015 \t 0.0 %\n",
      "November 2015 \t 0.0 %\n",
      "December 2015 \t 0.0 %\n",
      "January 2016 \t 0.0 %\n",
      "February 2016 \t 0.0 %\n",
      "March 2016 \t 0.0 %\n",
      "April 2016 \t 0.0 %\n",
      "May 2016 \t 0.0 %\n",
      "June 2016 \t 0.0 %\n",
      "July 2016 \t 0.0 %\n",
      "August 2016 \t 0.0 %\n",
      "September 2016 \t 0.0 %\n",
      "October 2016 \t 0.0 %\n",
      "November 2016 \t 0.0 %\n",
      "December 2016 \t 0.0 %\n",
      "January 2017 \t 0.0 %\n",
      "City Code \t 0.0 %\n",
      "City \t 0.0 %\n",
      "Metro \t 7.69 %\n",
      "County \t 0.0 %\n",
      "State \t 0.0 %\n",
      "Population Rank \t 0.0 %\n",
      "November 2010 \t 11.07 %\n",
      "December 2010 \t 11.07 %\n",
      "January 2011 \t 11.07 %\n",
      "February 2011 \t 9.86 %\n",
      "March 2011 \t 9.15 %\n",
      "April 2011 \t 8.73 %\n",
      "May 2011 \t 8.68 %\n",
      "June 2011 \t 8.68 %\n",
      "July 2011 \t 8.68 %\n",
      "August 2011 \t 8.68 %\n",
      "September 2011 \t 8.67 %\n",
      "October 2011 \t 8.55 %\n",
      "November 2011 \t 8.55 %\n",
      "December 2011 \t 6.7 %\n",
      "January 2012 \t 6.7 %\n",
      "February 2012 \t 6.7 %\n",
      "March 2012 \t 6.7 %\n",
      "April 2012 \t 0.0 %\n",
      "May 2012 \t 0.0 %\n",
      "June 2012 \t 0.0 %\n",
      "July 2012 \t 0.0 %\n",
      "August 2012 \t 0.0 %\n",
      "September 2012 \t 0.0 %\n",
      "October 2012 \t 0.0 %\n",
      "November 2012 \t 0.0 %\n",
      "December 2012 \t 0.0 %\n",
      "January 2013 \t 0.0 %\n",
      "February 2013 \t 0.0 %\n",
      "March 2013 \t 0.0 %\n",
      "April 2013 \t 0.0 %\n",
      "May 2013 \t 0.0 %\n",
      "June 2013 \t 0.0 %\n",
      "July 2013 \t 0.0 %\n",
      "August 2013 \t 0.0 %\n",
      "September 2013 \t 0.0 %\n",
      "October 2013 \t 0.0 %\n",
      "November 2013 \t 0.0 %\n",
      "December 2013 \t 0.0 %\n",
      "January 2014 \t 0.0 %\n",
      "February 2014 \t 0.0 %\n",
      "March 2014 \t 0.0 %\n",
      "April 2014 \t 0.0 %\n",
      "May 2014 \t 0.0 %\n",
      "June 2014 \t 0.0 %\n",
      "July 2014 \t 0.0 %\n",
      "August 2014 \t 0.0 %\n",
      "September 2014 \t 0.0 %\n",
      "October 2014 \t 0.0 %\n",
      "November 2014 \t 0.0 %\n",
      "December 2014 \t 0.0 %\n",
      "January 2015 \t 0.0 %\n",
      "February 2015 \t 0.0 %\n",
      "March 2015 \t 0.0 %\n",
      "April 2015 \t 0.0 %\n",
      "May 2015 \t 0.0 %\n",
      "June 2015 \t 0.0 %\n",
      "July 2015 \t 0.0 %\n",
      "August 2015 \t 0.0 %\n",
      "September 2015 \t 0.0 %\n",
      "October 2015 \t 0.0 %\n",
      "November 2015 \t 0.0 %\n",
      "December 2015 \t 0.0 %\n",
      "January 2016 \t 0.0 %\n",
      "February 2016 \t 0.0 %\n",
      "March 2016 \t 0.0 %\n",
      "April 2016 \t 0.0 %\n",
      "May 2016 \t 0.0 %\n",
      "June 2016 \t 0.0 %\n",
      "July 2016 \t 0.0 %\n",
      "August 2016 \t 0.0 %\n",
      "September 2016 \t 0.0 %\n",
      "October 2016 \t 0.0 %\n",
      "November 2016 \t 0.0 %\n",
      "December 2016 \t 0.0 %\n",
      "January 2017 \t 0.0 %\n"
     ]
    }
   ],
   "source": [
    "# Buscamos registros nulos por columna\n",
    "for df in lista_data:\n",
    "    col = df.columns\n",
    "    for e in col:\n",
    "        print(e,'\\t',round(len(df[e][df[e].isnull()])/len(df)*100,2),'%')"
   ]
  },
  {
   "cell_type": "code",
   "execution_count": 9,
   "metadata": {},
   "outputs": [
    {
     "name": "stdout",
     "output_type": "stream",
     "text": [
      "0\n",
      "0\n"
     ]
    }
   ],
   "source": [
    "# Buscamos registros duplicados por df\n",
    "for df in lista_data:\n",
    "    print(df.duplicated().sum())"
   ]
  }
 ],
 "metadata": {
  "kernelspec": {
   "display_name": "Python 3.10.2 64-bit",
   "language": "python",
   "name": "python3"
  },
  "language_info": {
   "codemirror_mode": {
    "name": "ipython",
    "version": 3
   },
   "file_extension": ".py",
   "mimetype": "text/x-python",
   "name": "python",
   "nbconvert_exporter": "python",
   "pygments_lexer": "ipython3",
   "version": "3.10.2"
  },
  "orig_nbformat": 4,
  "vscode": {
   "interpreter": {
    "hash": "369f2c481f4da34e4445cda3fffd2e751bd1c4d706f27375911949ba6bb62e1c"
   }
  }
 },
 "nbformat": 4,
 "nbformat_minor": 2
}
